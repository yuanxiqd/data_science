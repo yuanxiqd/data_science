{
 "cells": [
  {
   "cell_type": "markdown",
   "metadata": {},
   "source": [
    "# Chapter 4: 电商物流服务的质量评价\n",
    "## Content: 这个脚本用来实现在线评论的观点挖掘\n",
    "## Author: 乔东\n",
    "## Date: 2019-12-22"
   ]
  },
  {
   "cell_type": "code",
   "execution_count": 29,
   "metadata": {},
   "outputs": [],
   "source": [
    "# 载入依赖包\n",
    "import warnings\n",
    "warnings.filterwarnings('ignore')\n",
    "\n",
    "import numpy as np\n",
    "import pandas as pd\n",
    "import matplotlib.pyplot as plt\n",
    "import seaborn as sns; sns.set()"
   ]
  },
  {
   "cell_type": "code",
   "execution_count": 30,
   "metadata": {},
   "outputs": [],
   "source": [
    "# 载入NLP依赖包\n",
    "import jieba\n",
    "import jieba.analyse\n",
    "import snownlp\n",
    "from snownlp import SnowNLP\n",
    "\n",
    "import re"
   ]
  },
  {
   "cell_type": "code",
   "execution_count": 31,
   "metadata": {},
   "outputs": [],
   "source": [
    "# 设置基本参数\n",
    "dataPath = 'data/'"
   ]
  },
  {
   "cell_type": "code",
   "execution_count": 32,
   "metadata": {},
   "outputs": [
    {
     "data": {
      "text/html": [
       "<div>\n",
       "<style scoped>\n",
       "    .dataframe tbody tr th:only-of-type {\n",
       "        vertical-align: middle;\n",
       "    }\n",
       "\n",
       "    .dataframe tbody tr th {\n",
       "        vertical-align: top;\n",
       "    }\n",
       "\n",
       "    .dataframe thead th {\n",
       "        text-align: right;\n",
       "    }\n",
       "</style>\n",
       "<table border=\"1\" class=\"dataframe\">\n",
       "  <thead>\n",
       "    <tr style=\"text-align: right;\">\n",
       "      <th></th>\n",
       "      <th>userName</th>\n",
       "      <th>isPlus</th>\n",
       "      <th>starRating</th>\n",
       "      <th>imageNum</th>\n",
       "      <th>longComment</th>\n",
       "      <th>imageBox_bitmap</th>\n",
       "      <th>Thumb_up</th>\n",
       "      <th>Thumb_Comment</th>\n",
       "    </tr>\n",
       "  </thead>\n",
       "  <tbody>\n",
       "    <tr>\n",
       "      <td>0</td>\n",
       "      <td>网络情缘好好干</td>\n",
       "      <td>1.0</td>\n",
       "      <td>5</td>\n",
       "      <td>9</td>\n",
       "      <td>外形外观：手感很棒，的确小屏旗舰手机屏幕音效：没话说的优秀，信号问题一般般，时有时无没办法，...</td>\n",
       "      <td>44534646_2149541184/0_1569042153_685121680.100...</td>\n",
       "      <td>42</td>\n",
       "      <td>60</td>\n",
       "    </tr>\n",
       "    <tr>\n",
       "      <td>1</td>\n",
       "      <td>网络情缘好好干</td>\n",
       "      <td>1.0</td>\n",
       "      <td>5</td>\n",
       "      <td>9</td>\n",
       "      <td>外形外观：手感很棒，的确小屏旗舰手机屏幕音效：没话说的优秀，信号问题一般般，时有时无没办法，...</td>\n",
       "      <td>44534646_2149541184/1_3086926490139564.jpg</td>\n",
       "      <td>42</td>\n",
       "      <td>60</td>\n",
       "    </tr>\n",
       "  </tbody>\n",
       "</table>\n",
       "</div>"
      ],
      "text/plain": [
       "  userName  isPlus  starRating  imageNum  \\\n",
       "0  网络情缘好好干     1.0           5         9   \n",
       "1  网络情缘好好干     1.0           5         9   \n",
       "\n",
       "                                         longComment  \\\n",
       "0  外形外观：手感很棒，的确小屏旗舰手机屏幕音效：没话说的优秀，信号问题一般般，时有时无没办法，...   \n",
       "1  外形外观：手感很棒，的确小屏旗舰手机屏幕音效：没话说的优秀，信号问题一般般，时有时无没办法，...   \n",
       "\n",
       "                                     imageBox_bitmap  Thumb_up  Thumb_Comment  \n",
       "0  44534646_2149541184/0_1569042153_685121680.100...        42             60  \n",
       "1         44534646_2149541184/1_3086926490139564.jpg        42             60  "
      ]
     },
     "execution_count": 32,
     "metadata": {},
     "output_type": "execute_result"
    }
   ],
   "source": [
    "# 载入数据集\n",
    "dataset = pd.read_csv('data/crawl_data.csv', header= 0, encoding= 'gbk')\n",
    "dataset.head(2)"
   ]
  },
  {
   "cell_type": "code",
   "execution_count": 33,
   "metadata": {},
   "outputs": [],
   "source": [
    "# 定义分句函数\n",
    "def splitSentence(text, pattern = r'[，|；|。|？|…|！| |\\n|\\t]', minSenti = 0.4, maxSenti = 0.6):\n",
    "    # 定义分割句子函数\n",
    "    # 输入是一个字符串\n",
    "    # 输出是一个元素为字符串分句的列表\n",
    "    \n",
    "    # 首先，使用正则表达式分割句子\n",
    "        \n",
    "    subSens = re.split(pattern, text) # 执行分割\n",
    "    subSens = list(filter(None, subSens)) # 去掉空字符串\n",
    "    labels = [False if minSenti < SnowNLP(x).sentiments < maxSenti else True for x in subSens]\n",
    "    \n",
    "    return [subSen for subSen, label in zip(subSens, labels) if label == True]\n",
    "\n",
    "# 对每一条在线评论进行分句\n",
    "# 输出的文本文件中，每一行都是一个分句\n",
    "with open('data/test.txt', 'w') as f:\n",
    "    # 读取在线评论之文本评论\n",
    "    [f.write(subSen + '\\n') for i in dataset.index for subSen in splitSentence(dataset.longComment.iloc[i])]\n",
    "    \n",
    "f.close()"
   ]
  },
  {
   "cell_type": "code",
   "execution_count": 34,
   "metadata": {},
   "outputs": [
    {
     "name": "stdout",
     "output_type": "stream",
     "text": [
      "cd LTP && ./bin/ltp_test --threads 3 --last-stage dp --input ../data/test.txt > ../data/out.txt\n"
     ]
    },
    {
     "data": {
      "text/plain": [
       "0"
      ]
     },
     "execution_count": 34,
     "metadata": {},
     "output_type": "execute_result"
    }
   ],
   "source": [
    "# -*- coding: utf-8 -*-\n",
    " \n",
    "\"\"\"\n",
    "学习：python执行CMD命令command，可以用&连接多个命令\n",
    "功能：python调用CMD命令来执行本地LTP功能\n",
    "时间：2016年4月13日 19:07:41\n",
    "\"\"\"\n",
    " \n",
    "import os\n",
    " \n",
    "ltpPath = \"LTP\"    # 项目文件夹目录\n",
    " \n",
    "# 可设置ltp_test、（cws、pos、par、ner）_cmdline，但是注意各自能用的参数，没有的参数请置空\"\"\n",
    "model_exe = \"./bin/ltp_test\"    # 又如cws_cmdline\n",
    " \n",
    "threads_num = \" --threads \" + str(3)                                    # 更改线程数\n",
    "last_stage = \" --last-stage \" + \"dp\"                                   # 最终步骤，可设置ws、pos、ner、dp、srl、all\n",
    "input_path = \" --input \"+ \"../data/test.txt\"        # 输入文件\n",
    "seg_lexicon = \"\"                                                      # 分词用户词典\n",
    "pos_lexicon = \"\"                                                      # 词性标注用户词典\n",
    "output_path = \"../data/out.txt\"                  # 输出文件\n",
    " \n",
    "command = \"cd \" + ltpPath + \" && \" + model_exe + threads_num + last_stage + input_path + \" > \" + output_path\n",
    "print(command)\n",
    "os.system(command)"
   ]
  },
  {
   "cell_type": "code",
   "execution_count": 36,
   "metadata": {},
   "outputs": [
    {
     "data": {
      "text/plain": [
       "['<?xml version=\"1.0\" encoding=\"utf-8\" ?>',\n",
       " '<xml4nlp>',\n",
       " '<note sent=\"y\" word=\"y\" pos=\"y\" ne=\"n\" parser=\"y\" wsd=\"n\" srl=\"n\" />',\n",
       " '<doc>',\n",
       " '<para id=\"0\">',\n",
       " '<sent id=\"0\" cont=\"所以只能选择这个了\">',\n",
       " '<word id=\"0\" cont=\"所以\" pos=\"c\" parent=\"2\" relate=\"ADV\" />',\n",
       " '<word id=\"1\" cont=\"只能\" pos=\"v\" parent=\"2\" relate=\"ADV\" />',\n",
       " '<word id=\"2\" cont=\"选择\" pos=\"v\" parent=\"-1\" relate=\"HED\" />',\n",
       " '<word id=\"3\" cont=\"这个\" pos=\"r\" parent=\"2\" relate=\"VOB\" />',\n",
       " '<word id=\"4\" cont=\"了\" pos=\"u\" parent=\"2\" relate=\"RAD\" />',\n",
       " '</sent>',\n",
       " '</para>',\n",
       " '</doc>',\n",
       " '</xml4nlp>']"
      ]
     },
     "execution_count": 36,
     "metadata": {},
     "output_type": "execute_result"
    }
   ],
   "source": [
    "# 读取经过依存句法分析的文本评论分句\n",
    "dpTable = []\n",
    "subDPTable = []\n",
    "with open('data/out.txt', 'r') as f:\n",
    "    for eachline in f:\n",
    "        if eachline != '\\n':\n",
    "            subDPTable.append(eachline.strip())\n",
    "        else:\n",
    "            dpTable.append(subDPTable)\n",
    "            subDPTable = []\n",
    "        \n",
    "f.close()\n",
    "# dpTable[20]"
   ]
  },
  {
   "cell_type": "code",
   "execution_count": null,
   "metadata": {},
   "outputs": [],
   "source": []
  }
 ],
 "metadata": {
  "kernelspec": {
   "display_name": "Python 3",
   "language": "python",
   "name": "python3"
  },
  "language_info": {
   "codemirror_mode": {
    "name": "ipython",
    "version": 3
   },
   "file_extension": ".py",
   "mimetype": "text/x-python",
   "name": "python",
   "nbconvert_exporter": "python",
   "pygments_lexer": "ipython3",
   "version": "3.6.7"
  }
 },
 "nbformat": 4,
 "nbformat_minor": 2
}
